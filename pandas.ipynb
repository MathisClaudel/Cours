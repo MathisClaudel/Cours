{
  "nbformat": 4,
  "nbformat_minor": 0,
  "metadata": {
    "colab": {
      "provenance": [],
      "authorship_tag": "ABX9TyMKzScaQnCq+vOXV3NkQtxh",
      "include_colab_link": true
    },
    "kernelspec": {
      "name": "python3",
      "display_name": "Python 3"
    },
    "language_info": {
      "name": "python"
    }
  },
  "cells": [
    {
      "cell_type": "markdown",
      "metadata": {
        "id": "view-in-github",
        "colab_type": "text"
      },
      "source": [
        "<a href=\"https://colab.research.google.com/github/MathisClaudel/Cours/blob/main/pandas.ipynb\" target=\"_parent\"><img src=\"https://colab.research.google.com/assets/colab-badge.svg\" alt=\"Open In Colab\"/></a>"
      ]
    },
    {
      "cell_type": "code",
      "execution_count": null,
      "metadata": {
        "id": "Lr97OCI4Q-LX"
      },
      "outputs": [],
      "source": [
        "import numpy\n",
        "import panda as pd\n"
      ]
    },
    {
      "cell_type": "markdown",
      "source": [
        "Retourne uniquement les valeurs"
      ],
      "metadata": {
        "id": "NVJMqKPiRLgo"
      }
    },
    {
      "cell_type": "code",
      "source": [
        "val_df\n"
      ],
      "metadata": {
        "id": "PmonL7HURGBE"
      },
      "execution_count": null,
      "outputs": []
    }
  ]
}