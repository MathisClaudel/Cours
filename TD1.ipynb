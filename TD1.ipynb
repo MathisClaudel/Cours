{
  "nbformat": 4,
  "nbformat_minor": 0,
  "metadata": {
    "colab": {
      "provenance": [],
      "authorship_tag": "ABX9TyNF8XrTrEPHyNEsN0vI5dWA",
      "include_colab_link": true
    },
    "kernelspec": {
      "name": "python3",
      "display_name": "Python 3"
    },
    "language_info": {
      "name": "python"
    }
  },
  "cells": [
    {
      "cell_type": "markdown",
      "metadata": {
        "id": "view-in-github",
        "colab_type": "text"
      },
      "source": [
        "<a href=\"https://colab.research.google.com/github/MathisClaudel/Cours/blob/main/TD1.ipynb\" target=\"_parent\"><img src=\"https://colab.research.google.com/assets/colab-badge.svg\" alt=\"Open In Colab\"/></a>"
      ]
    },
    {
      "cell_type": "markdown",
      "source": [
        "Importation des librairies"
      ],
      "metadata": {
        "id": "_yckj7FiOcZR"
      }
    },
    {
      "cell_type": "code",
      "execution_count": 1,
      "metadata": {
        "id": "wFLKulvzON6p"
      },
      "outputs": [],
      "source": [
        "import pandas as pd\n",
        "import matplotlib.pyplot as plt"
      ]
    },
    {
      "cell_type": "markdown",
      "source": [
        "Chargement du dataset"
      ],
      "metadata": {
        "id": "pjBMB5VIPiPi"
      }
    },
    {
      "cell_type": "code",
      "source": [
        "df = pd.read_csv(\"/content/AmesHousing.csv\")"
      ],
      "metadata": {
        "id": "4Qo1XxPEOpO2"
      },
      "execution_count": 2,
      "outputs": []
    },
    {
      "cell_type": "markdown",
      "source": [
        "Affichage des données"
      ],
      "metadata": {
        "id": "85nkEwmhQH8e"
      }
    },
    {
      "cell_type": "code",
      "source": [
        "df.columns"
      ],
      "metadata": {
        "colab": {
          "base_uri": "https://localhost:8080/"
        },
        "id": "qLnI7szQPhck",
        "outputId": "512f01ce-d827-459e-b80f-36dc9b15d982"
      },
      "execution_count": 3,
      "outputs": [
        {
          "output_type": "execute_result",
          "data": {
            "text/plain": [
              "Index(['Order', 'PID', 'MS SubClass', 'MS Zoning', 'Lot Frontage', 'Lot Area',\n",
              "       'Street', 'Alley', 'Lot Shape', 'Land Contour', 'Utilities',\n",
              "       'Lot Config', 'Land Slope', 'Neighborhood', 'Condition 1',\n",
              "       'Condition 2', 'Bldg Type', 'House Style', 'Overall Qual',\n",
              "       'Overall Cond', 'Year Built', 'Year Remod/Add', 'Roof Style',\n",
              "       'Roof Matl', 'Exterior 1st', 'Exterior 2nd', 'Mas Vnr Type',\n",
              "       'Mas Vnr Area', 'Exter Qual', 'Exter Cond', 'Foundation', 'Bsmt Qual',\n",
              "       'Bsmt Cond', 'Bsmt Exposure', 'BsmtFin Type 1', 'BsmtFin SF 1',\n",
              "       'BsmtFin Type 2', 'BsmtFin SF 2', 'Bsmt Unf SF', 'Total Bsmt SF',\n",
              "       'Heating', 'Heating QC', 'Central Air', 'Electrical', '1st Flr SF',\n",
              "       '2nd Flr SF', 'Low Qual Fin SF', 'Gr Liv Area', 'Bsmt Full Bath',\n",
              "       'Bsmt Half Bath', 'Full Bath', 'Half Bath', 'Bedroom AbvGr',\n",
              "       'Kitchen AbvGr', 'Kitchen Qual', 'TotRms AbvGrd', 'Functional',\n",
              "       'Fireplaces', 'Fireplace Qu', 'Garage Type', 'Garage Yr Blt',\n",
              "       'Garage Finish', 'Garage Cars', 'Garage Area', 'Garage Qual',\n",
              "       'Garage Cond', 'Paved Drive', 'Wood Deck SF', 'Open Porch SF',\n",
              "       'Enclosed Porch', '3Ssn Porch', 'Screen Porch', 'Pool Area', 'Pool QC',\n",
              "       'Fence', 'Misc Feature', 'Misc Val', 'Mo Sold', 'Yr Sold', 'Sale Type',\n",
              "       'Sale Condition', 'SalePrice'],\n",
              "      dtype='object')"
            ]
          },
          "metadata": {},
          "execution_count": 3
        }
      ]
    },
    {
      "cell_type": "code",
      "source": [],
      "metadata": {
        "id": "NUFilcyFQKjY"
      },
      "execution_count": null,
      "outputs": []
    }
  ]
}